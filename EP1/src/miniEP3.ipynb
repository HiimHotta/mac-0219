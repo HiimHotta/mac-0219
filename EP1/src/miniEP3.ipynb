{
 "cells": [
  {
   "cell_type": "markdown",
   "metadata": {},
   "source": [
    "# EP1\n",
    "## Cálculo do Conjunto de Mandelbrotem Paralelo com Pthreads e OpenMP\n",
    "\n",
    "Nesse EP temos apenas quatro membros pois um trancou a materia:\n",
    "\n",
    "| Nome | NUSP |\n",
    "|------|------|\n",
    "| Daniel Hotta | 9922700 |\n",
    "| Matheus Laurentys | 9793714 |\n",
    "| Pedro Gigeck | 10737136 |\n",
    "| Rafael Gonçalves | 9009600 |\n",
    "\n",
    "\n",
    "## Configuração do Ambiente\n",
    "\n",
    "O ambiente será herdado do miniEP3"
   ]
  },
  {
   "cell_type": "code",
   "execution_count": 1,
   "metadata": {},
   "outputs": [
    {
     "name": "stderr",
     "output_type": "stream",
     "text": [
      "\u001b[32m\u001b[1m   Updating\u001b[22m\u001b[39m registry at `~/.julia/registries/General`\n"
     ]
    },
    {
     "name": "stdout",
     "output_type": "stream",
     "text": [
      "\u001b[?25l    "
     ]
    },
    {
     "name": "stderr",
     "output_type": "stream",
     "text": [
      "\u001b[32m\u001b[1m   Updating\u001b[22m\u001b[39m git-repo `https://github.com/JuliaRegistries/General.git`\n"
     ]
    },
    {
     "name": "stdout",
     "output_type": "stream",
     "text": [
      "\u001b[36m\u001b[1mFetching:\u001b[22m\u001b[39m [>                                        ]  0.0 %\r",
      "    \u001b[36m\u001b[1mFetching:\u001b[22m\u001b[39m [======>                                  ]  14.3 %\r",
      "    \u001b[36m\u001b[1mFetching:\u001b[22m\u001b[39m [============>                            ]  28.6 %\r",
      "    \u001b[36m\u001b[1mFetching:\u001b[22m\u001b[39m [==================>                      ]  42.9 %\r",
      "    \u001b[36m\u001b[1mFetching:\u001b[22m\u001b[39m [=======================>                 ]  57.1 %\r",
      "    \u001b[36m\u001b[1mFetching:\u001b[22m\u001b[39m [=============================>           ]  71.4 %\r",
      "    \u001b[36m\u001b[1mFetching:\u001b[22m\u001b[39m [===================================>     ]  85.7 %\r",
      "    \u001b[36m\u001b[1mFetching:\u001b[22m\u001b[39m [========================================>]  100.0 %\r",
      "\u001b[2K\u001b[?25h"
     ]
    },
    {
     "name": "stderr",
     "output_type": "stream",
     "text": [
      "\u001b[32m\u001b[1m   Updating\u001b[22m\u001b[39m `~/Área de Trabalho/EP1-HOJE/src/Project.toml`\n",
      "\u001b[90m [no changes]\u001b[39m\n",
      "\u001b[32m\u001b[1m   Updating\u001b[22m\u001b[39m `~/Área de Trabalho/EP1-HOJE/src/Manifest.toml`\n",
      " \u001b[90m [aaaa29a8]\u001b[39m\u001b[93m ↑ Clustering v0.13.4 ⇒ v0.14.0\u001b[39m\n",
      " \u001b[90m [b4f34e82]\u001b[39m\u001b[95m ↓ Distances v0.9.0 ⇒ v0.8.2\u001b[39m\n",
      " \u001b[90m [6a86dc24]\u001b[39m\u001b[93m ↑ FiniteDiff v2.3.1 ⇒ v2.3.2\u001b[39m\n",
      " \u001b[90m [b8a86587]\u001b[39m\u001b[95m ↓ NearestNeighbors v0.4.5 ⇒ v0.4.4\u001b[39m\n"
     ]
    }
   ],
   "source": [
    "] up"
   ]
  },
  {
   "cell_type": "code",
   "execution_count": 2,
   "metadata": {},
   "outputs": [
    {
     "name": "stdout",
     "output_type": "stream",
     "text": [
      "\u001b[32m\u001b[1mStatus\u001b[22m\u001b[39m `~/Área de Trabalho/EP1-HOJE/src/Project.toml`\n",
      " \u001b[90m [336ed68f]\u001b[39m\u001b[37m CSV v0.6.2\u001b[39m\n",
      " \u001b[90m [a93c6f00]\u001b[39m\u001b[37m DataFrames v0.21.1\u001b[39m\n",
      " \u001b[90m [31c24e10]\u001b[39m\u001b[37m Distributions v0.23.2\u001b[39m\n",
      " \u001b[90m [7073ff75]\u001b[39m\u001b[37m IJulia v1.21.2\u001b[39m\n",
      " \u001b[90m [8314cec4]\u001b[39m\u001b[37m PGFPlotsX v1.2.6\u001b[39m\n",
      " \u001b[90m [91a5bcdd]\u001b[39m\u001b[37m Plots v1.3.2\u001b[39m\n",
      " \u001b[90m [1a8c2f83]\u001b[39m\u001b[37m Query v0.12.2\u001b[39m\n",
      " \u001b[90m [f3b207a7]\u001b[39m\u001b[37m StatsPlots v0.14.6\u001b[39m\n"
     ]
    }
   ],
   "source": [
    "] st"
   ]
  },
  {
   "cell_type": "markdown",
   "metadata": {},
   "source": [
    "\n",
    "## Medição do tempo\n",
    "\n",
    "Para medir o tempo de execução geral, usamos o script `run_measurements.sh`, com o comando `perf`, que foi passado no enunciado. Todas as medições foram feitas com 13 repetições.\n",
    "\n",
    "Para medir o tempo de execução descontando as operações de I/O e alocação de memória, nós calculamos os tempos com algumas repetições da versão sequencial e usamos a opção do perf que separa o tempo de execução por cada comando específico do código, assim conseguimos obter o tempo gasto por cada função."
   ]
  },
  {
   "cell_type": "markdown",
   "metadata": {},
   "source": [
    "## Sobre as Implementações\n",
    "\n",
    "A implementação sequencial `mandelbrot_seq.c` foi mantida intacta.\n",
    "\n",
    "A implementação com OpenMP `mandelbrot_omp.c` foi bastante simples, o cálculo é igual ao sequêncial, porém o for externo foi trocado por um for paralelo do omp, compartilhando a váriavel `i_y`. Dessa forma, cada thread cuida de um intervalo de valores do `i_y`.\n",
    "\n",
    "A implementação com Pthreads `mandelbrot_pth.c` seguiu a mesma lógica da com OMP, paralelizando o for externo. Cada thread recebe um `i_y` inicial e um `i_y` final e calcula as linhas esquivalentes a esse intervalo. A diferença é que as estruturas das threads e a divisão dos intervalos foram feitos explicitamente."
   ]
  },
  {
   "cell_type": "markdown",
   "metadata": {},
   "source": [
    "## Executando\n",
    "\n",
    "O primeiro passo é compilar todo o codigo deste EP"
   ]
  },
  {
   "cell_type": "code",
   "execution_count": 3,
   "metadata": {},
   "outputs": [
    {
     "name": "stdout",
     "output_type": "stream",
     "text": [
      "make: Nothing to be done for 'all'.\n"
     ]
    }
   ],
   "source": [
    "; make"
   ]
  },
  {
   "cell_type": "code",
   "execution_count": null,
   "metadata": {},
   "outputs": [],
   "source": [
    "Podemos rodar qualquer uma das implementações para observar as imagens, por exemplo"
   ]
  },
  {
   "cell_type": "code",
   "execution_count": 4,
   "metadata": {},
   "outputs": [
    {
     "name": "stdout",
     "output_type": "stream",
     "text": [
      "usage: ./mandelbrot_seq c_x_min c_x_max c_y_min c_y_max image_size\n",
      "examples with image_size = 11500:\n",
      "    Full Picture:         ./mandelbrot_seq -2.5 1.5 -2.0 2.0 11500\n",
      "    Seahorse Valley:      ./mandelbrot_seq -0.8 -0.7 0.05 0.15 11500\n",
      "    Elephant Valley:      ./mandelbrot_seq 0.175 0.375 -0.1 0.1 11500\n",
      "    Triple Spiral Valley: ./mandelbrot_seq -0.188 -0.012 0.554 0.754 11500\n"
     ]
    }
   ],
   "source": [
    "; ./mandelbrot_seq -2.5 1.5 -2.0 2.0 11500"
   ]
  },
  {
   "cell_type": "markdown",
   "metadata": {},
   "source": [
    "Por fim, rodamos os scripts com os experimentos"
   ]
  },
  {
   "cell_type": "code",
   "execution_count": null,
   "metadata": {},
   "outputs": [],
   "source": [
    "; ./run_measurements.sh"
   ]
  },
  {
   "cell_type": "code",
   "execution_count": null,
   "metadata": {},
   "outputs": [
    {
     "name": "stderr",
     "output_type": "stream",
     "text": [
      "\u001b[32m\u001b[1m   Updating\u001b[22m\u001b[39m registry at `~/.julia/registries/General`\n"
     ]
    },
    {
     "name": "stdout",
     "output_type": "stream",
     "text": [
      "\u001b[?25l\u001b[2K"
     ]
    },
    {
     "name": "stderr",
     "output_type": "stream",
     "text": [
      "\u001b[32m\u001b[1m   Updating\u001b[22m\u001b[39m git-repo `https://github.com/JuliaRegistries/General.git`\n"
     ]
    },
    {
     "name": "stdout",
     "output_type": "stream",
     "text": [
      "\u001b[?25h"
     ]
    },
    {
     "name": "stderr",
     "output_type": "stream",
     "text": [
      "\u001b[32m\u001b[1m  Resolving\u001b[22m\u001b[39m package versions...\n",
      "\u001b[32m\u001b[1m  Installed\u001b[22m\u001b[39m FiniteDiff ─ v2.3.2\n",
      "\u001b[32m\u001b[1m   Updating\u001b[22m\u001b[39m `~/Documentos/mac-0219/EP1/src/Project.toml`\n",
      "\u001b[90m [no changes]\u001b[39m\n",
      "\u001b[32m\u001b[1m   Updating\u001b[22m\u001b[39m `~/Documentos/mac-0219/EP1/src/Manifest.toml`\n",
      "\u001b[90m [no changes]\u001b[39m\n",
      "┌ Info: Precompiling DataFrames [a93c6f00-e57d-5684-b7b6-d8193f3e46c0]\n",
      "└ @ Base loading.jl:1260\n"
     ]
    }
   ],
   "source": [
    "using Pkg\n",
    "Pkg.add(\"DataFrames\")\n",
    "\n",
    "using DataFrames\n",
    "\n",
    "# Build global DataFrame with the I/O and MemAlloc Times\n",
    "disc = DataFrame()\n",
    "logs = [\"full\" \"elephant\" \"seahorse\" \"triple_spiral\"]\n",
    "for l in logs\n",
    "    lT = string(l, \"T\")\n",
    "    out = Pipe()\n",
    "    cmd = pipeline(`cat times/$lT.log`, out)\n",
    "    run(cmd)\n",
    "    close(out.in)\n",
    "    s = read(out, String)\n",
    "    s = split(s, '\\n')\n",
    "    pop!(s)\n",
    "    v = []\n",
    "    aux = 0\n",
    "    for j in s\n",
    "        if j == \"===\"\n",
    "            push!(v, aux)\n",
    "            aux = 0\n",
    "        else\n",
    "            aux += parse(Float64, j)\n",
    "        end\n",
    "    end\n",
    "    disc[!, \"$l\"] = v\n",
    "end"
   ]
  },
  {
   "cell_type": "code",
   "execution_count": 2,
   "metadata": {
    "scrolled": true
   },
   "outputs": [
    {
     "name": "stderr",
     "output_type": "stream",
     "text": [
      "\u001b[32m\u001b[1m   Updating\u001b[22m\u001b[39m registry at `~/.julia/registries/General`\n"
     ]
    },
    {
     "name": "stdout",
     "output_type": "stream",
     "text": [
      "\u001b[?25l    "
     ]
    },
    {
     "name": "stderr",
     "output_type": "stream",
     "text": [
      "\u001b[32m\u001b[1m   Updating\u001b[22m\u001b[39m git-repo `https://github.com/JuliaRegistries/General.git`\n"
     ]
    },
    {
     "name": "stdout",
     "output_type": "stream",
     "text": [
      "\u001b[2K\u001b[?25h[1mFetching:\u001b[22m\u001b[39m [========================================>]  100.0 %"
     ]
    },
    {
     "name": "stderr",
     "output_type": "stream",
     "text": [
      "\u001b[32m\u001b[1m  Resolving\u001b[22m\u001b[39m package versions...\n"
     ]
    },
    {
     "ename": "Pkg.Types.PkgError",
     "evalue": "Error when installing package FiniteDiff:\nInterruptException:\nStacktrace:\n [1] download(::String, ::String; verbose::Bool, auth_header::Nothing) at /buildworker/worker/package_linux64/build/usr/share/julia/stdlib/v1.4/Pkg/src/PlatformEngines.jl:843\n [2] install_archive(::Array{Pair{String,Bool},1}, ::Base.SHA1, ::String) at /buildworker/worker/package_linux64/build/usr/share/julia/stdlib/v1.4/Pkg/src/Operations.jl:492\n [3] macro expansion at /buildworker/worker/package_linux64/build/usr/share/julia/stdlib/v1.4/Pkg/src/Operations.jl:680 [inlined]\n [4] (::Pkg.Operations.var\"#43#46\"{Bool,Pkg.Types.Context,Dict{Base.UUID,Array{String,1}},Channel{Any},Channel{Any}})() at ./task.jl:358",
     "output_type": "error",
     "traceback": [
      "Error when installing package FiniteDiff:\nInterruptException:\nStacktrace:\n [1] download(::String, ::String; verbose::Bool, auth_header::Nothing) at /buildworker/worker/package_linux64/build/usr/share/julia/stdlib/v1.4/Pkg/src/PlatformEngines.jl:843\n [2] install_archive(::Array{Pair{String,Bool},1}, ::Base.SHA1, ::String) at /buildworker/worker/package_linux64/build/usr/share/julia/stdlib/v1.4/Pkg/src/Operations.jl:492\n [3] macro expansion at /buildworker/worker/package_linux64/build/usr/share/julia/stdlib/v1.4/Pkg/src/Operations.jl:680 [inlined]\n [4] (::Pkg.Operations.var\"#43#46\"{Bool,Pkg.Types.Context,Dict{Base.UUID,Array{String,1}},Channel{Any},Channel{Any}})() at ./task.jl:358",
      "",
      "Stacktrace:",
      " [1] pkgerror(::String, ::Vararg{String,N} where N) at /buildworker/worker/package_linux64/build/usr/share/julia/stdlib/v1.4/Pkg/src/Types.jl:53",
      " [2] download_source(::Pkg.Types.Context, ::Array{Pkg.Types.PackageSpec,1}, ::Dict{Base.UUID,Array{String,1}}; readonly::Bool) at /buildworker/worker/package_linux64/build/usr/share/julia/stdlib/v1.4/Pkg/src/Operations.jl:698",
      " [3] #download_source#39 at /buildworker/worker/package_linux64/build/usr/share/julia/stdlib/v1.4/Pkg/src/Operations.jl:633 [inlined]",
      " [4] download_source at /buildworker/worker/package_linux64/build/usr/share/julia/stdlib/v1.4/Pkg/src/Operations.jl:631 [inlined]",
      " [5] add(::Pkg.Types.Context, ::Array{Pkg.Types.PackageSpec,1}, ::Array{Base.UUID,1}; preserve::Pkg.Types.PreserveLevel, platform::Pkg.BinaryPlatforms.Linux) at /buildworker/worker/package_linux64/build/usr/share/julia/stdlib/v1.4/Pkg/src/Operations.jl:1080",
      " [6] add(::Pkg.Types.Context, ::Array{Pkg.Types.PackageSpec,1}; preserve::Pkg.Types.PreserveLevel, platform::Pkg.BinaryPlatforms.Linux, kwargs::Base.Iterators.Pairs{Union{},Union{},Tuple{},NamedTuple{(),Tuple{}}}) at /buildworker/worker/package_linux64/build/usr/share/julia/stdlib/v1.4/Pkg/src/API.jl:159",
      " [7] add(::Pkg.Types.Context, ::Array{Pkg.Types.PackageSpec,1}) at /buildworker/worker/package_linux64/build/usr/share/julia/stdlib/v1.4/Pkg/src/API.jl:112",
      " [8] #add#27 at /buildworker/worker/package_linux64/build/usr/share/julia/stdlib/v1.4/Pkg/src/API.jl:109 [inlined]",
      " [9] add at /buildworker/worker/package_linux64/build/usr/share/julia/stdlib/v1.4/Pkg/src/API.jl:109 [inlined]",
      " [10] #add#24 at /buildworker/worker/package_linux64/build/usr/share/julia/stdlib/v1.4/Pkg/src/API.jl:107 [inlined]",
      " [11] add at /buildworker/worker/package_linux64/build/usr/share/julia/stdlib/v1.4/Pkg/src/API.jl:107 [inlined]",
      " [12] add(::String; kwargs::Base.Iterators.Pairs{Union{},Union{},Tuple{},NamedTuple{(),Tuple{}}}) at /buildworker/worker/package_linux64/build/usr/share/julia/stdlib/v1.4/Pkg/src/API.jl:106",
      " [13] add(::String) at /buildworker/worker/package_linux64/build/usr/share/julia/stdlib/v1.4/Pkg/src/API.jl:106",
      " [14] top-level scope at In[2]:4"
     ]
    }
   ],
   "source": [
    "# Plot sequencial graphs\n",
    "\n",
    "import Pkg\n",
    "Pkg.add(\"Plots\")\n",
    "using DataFrames, Plots\n",
    "\n",
    "# DataFrame to concat all data to write in csv\n",
    "df_csv = DataFrame()\n",
    "df_csv.sz = [2 ^ x for x in 4:13]\n",
    "\n",
    "# Get the time values from the log files and saves in a string\n",
    "function get_log_string(log)\n",
    "    out = Pipe()\n",
    "    cmd = pipeline(`grep '.seconds time elapsed.' results/mandelbrot_seq/$log.log`,\n",
    "          pipeline(`awk '{print $1}'`; stdout=out))\n",
    "    \n",
    "    run(cmd)\n",
    "    close(out.in)\n",
    "    s = read(out, String)\n",
    "    return s\n",
    "end\n",
    "\n",
    "# Get the percent values of the error from the log files and saves in a string\n",
    "function get_log_deviation(log)\n",
    "    out = Pipe()\n",
    "    cmd = pipeline(`grep '.seconds time elapsed.' results/mandelbrot_seq/$log.log`,\n",
    "          pipeline(`awk '{print $(NF - 1)}'`; stdout=out))\n",
    "    \n",
    "    run(cmd)\n",
    "    close(out.in)\n",
    "    s = read(out, String)\n",
    "    return s\n",
    "end\n",
    "\n",
    "# Transform the strings of times and error into float arrays\n",
    "function get_values(values, percent, discount)\n",
    "    values = split(values, '\\n')\n",
    "    percent = split(percent, '\\n')\n",
    "    pop!(values)\n",
    "    pop!(percent)\n",
    "    times = []\n",
    "    error = []\n",
    "    for i in 1:length(values)\n",
    "        t = parse(Float64, replace(values[i], \",\"=>\".\"))\n",
    "        if discount != nothing\n",
    "            t -= discount[i]\n",
    "        end\n",
    "        push!(times, t)\n",
    "        e = parse(Float64, replace(replace(percent[i], \",\"=>\".\"), \"%\"=>\"\"))\n",
    "        push!(error, (t*e)/100)\n",
    "    end\n",
    "    return times, error\n",
    "end\n",
    "\n",
    "# Create a dataframe with values from the 4 log files, discount tells if we discount I/O operations\n",
    "function get_data_frame(discount)\n",
    "    df = DataFrame()\n",
    "    df.sz = [2 ^ x for x in 4:13]\n",
    "    for l in logs\n",
    "        s = get_log_string(l)\n",
    "        d = get_log_deviation(l)\n",
    "        if discount\n",
    "            dc = disc[\"$l\"]\n",
    "        else\n",
    "            dc = nothing\n",
    "        end\n",
    "        times, dv = get_values(s, d, dc)\n",
    "        df[!, \"$l\"] = times\n",
    "        df[!, \"dv$l\"] = dv\n",
    "        df_csv[!, \"seq_$l.times\"] = times\n",
    "        df_csv[!, \"seq_$l.error\"] = dv\n",
    "    end\n",
    "    return df\n",
    "end\n",
    "\n",
    "function plot_data_frame(df, d)\n",
    "    xs = df.sz\n",
    "    ys = [df.full df.elephant df.seahorse df.triple_spiral]\n",
    "    deviation = [df.dvfull df.dvelephant df.dvseahorse df.dvtriple_spiral]\n",
    "    plot(xs, ys, label = logs, yerror = deviation, \n",
    "         xlabel = \"Tamanho da Imagem\", ylabel = \"Tempo (s)\", title = \"Tempo x Tamanho\\nImplementação Sequencial\\n$d\")\n",
    "end\n",
    "\n",
    "df = get_data_frame(false)\n",
    "plot_data_frame(df, \"Sem desconto de I/O\")\n"
   ]
  },
  {
   "cell_type": "code",
   "execution_count": null,
   "metadata": {
    "scrolled": true
   },
   "outputs": [],
   "source": [
    "df = get_data_frame(true)\n",
    "plot_data_frame(df, \"Com desconto de I/O\")"
   ]
  },
  {
   "cell_type": "code",
   "execution_count": null,
   "metadata": {
    "scrolled": false
   },
   "outputs": [],
   "source": [
    "# Plot the paralell graphs\n",
    "\n",
    "import Pkg\n",
    "Pkg.add(\"Plots\")\n",
    "using DataFrames, Plots\n",
    "\n",
    "# Get the time values from the log files and saves in a string\n",
    "function get_log_string(log, implementation, th)\n",
    "    out = Pipe()\n",
    "    cmd = pipeline(`grep '.seconds time elapsed.' results/mandelbrot_$implementation/$log$th.log`,\n",
    "          pipeline(`awk '{print $1}'`; stdout=out))\n",
    "    \n",
    "    run(cmd)\n",
    "    close(out.in)\n",
    "    s = read(out, String)\n",
    "    return s\n",
    "end\n",
    "\n",
    "# Get the percent values of the error from the log files and saves in a string\n",
    "function get_log_deviation(log, implementation, th)\n",
    "    out = Pipe()\n",
    "    cmd = pipeline(`grep '.seconds time elapsed.' results/mandelbrot_$implementation/$log$th.log`,\n",
    "          pipeline(`awk '{print $(NF - 1)}'`; stdout=out))\n",
    "    \n",
    "    run(cmd)\n",
    "    close(out.in)\n",
    "    s = read(out, String)\n",
    "    return s\n",
    "end\n",
    "\n",
    "# Get a dataFrame (time x image_size) with data  \n",
    "function get_data_frame(implementation, image)\n",
    "    df = DataFrame()\n",
    "    df.sz = [2 ^ x for x in 4:13]\n",
    "    th = [2 ^ x for x in 0:4]\n",
    "    for t in th\n",
    "        s = get_log_string(image, implementation, string(t))\n",
    "        d = get_log_deviation(image, implementation, string(t))\n",
    "        \n",
    "        dc = disc[\"$image\"]\n",
    "        \n",
    "        times, dv = get_values(s, d, dc)\n",
    "        df[!, \"t$t\"] = times\n",
    "        df[!, \"dv$t\"] = dv\n",
    "        df_csv[!, \"$implementation.$image$t.times\"] = times\n",
    "        df_csv[!, \"$implementation.$image$t.error\"] = dv\n",
    "    end\n",
    "    return df\n",
    "end\n",
    "\n",
    "# Função para plotar o DataFrame\n",
    "function plot_data_frame(df, i, j)\n",
    "    xs = df.sz\n",
    "    ys = [df.t1 df.t2 df.t4 df.t8 df.t16 df.t32]\n",
    "    deviation = [df.dv1 df.dv2 df.dv4 df.dv8 df.dv16 df.dv32]\n",
    "    labels = [\"1\" \"2\" \"4\" \"8\" \"16\" \"32\"]\n",
    "    display(plot(xs, ys, label = labels, yerror = deviation, \n",
    "         xlabel = \"Tamanho da Imagem\", ylabel = \"Tempo (s)\", title = \"Tempo x Tamanho\\nImplementação $i - $j\"))\n",
    "end\n",
    "\n",
    "implementations = [\"omp\" \"pth\"]\n",
    "file = [\"triple_spiral\",\"seahorse\",\"elephant\",\"full\"]\n",
    "for i in implementations\n",
    "    for j in file\n",
    "        df = get_data_frame(i, j)\n",
    "        plot_data_frame(df, i, j)\n",
    "    end\n",
    "end"
   ]
  },
  {
   "cell_type": "code",
   "execution_count": null,
   "metadata": {},
   "outputs": [],
   "source": [
    "using CSV\n",
    "\n",
    "CSV.write(\"data\", df_csv)"
   ]
  },
  {
   "cell_type": "markdown",
   "metadata": {},
   "source": [
    "### Análise da implementação sequencial\n",
    "\n",
    "Com a implementação sequencial, vemos uma clara diferença entre as regiões do Conjunto de Mandelbrot. \n",
    "\n",
    "A geração da imagem completa (full) consome muito menos tempo que as regiões específicas, uma das causas pode ser o grande intervalo de pontos que cada pixel da imagem abrange, causando uma baixa definição e, com isso, menos iterações de cálculo. As regiões específicas, que cobriam subconjuntos de tamanhos semelhantes consumiram tempos parecidos. \n",
    "\n",
    "Outra observação interessante é o comportamento quadrático do consumo de tempo em função do tamanho da lateral imagem, o que faz sentido já que calculamos um dado número de iterações para cada pixel.\n",
    "\n",
    "### Análise geral das implementações paralelas\n",
    "\n",
    "No entanto,com as implementeções paralelas conseguimos observar que ,aparentemente, o Conjunto de Mandelbrot paralelizado por\n",
    "pthreads apresenta um menor tempo para o calculo quando temos 8 threads. \n",
    "\n",
    "Além disso, fica evidente uma diferença gritante na maneira em que a evolução do tempo para o calculo das imagens se comporta independente do numero de threads involvido, dado a implementação ser por OpenMP e Pthreads, pois os graficos gerados pela implementação OpenMP apresentam um tempo de execução e taxa de crescimento similar para n threads para as regiões pedidas, enquanto ao nos voltarmos para os graficos gerados pela implementação pthreads temos taxas de crescimento para o tempo de execução por numero de threads mais distintas entre si.\n",
    "\n",
    "\n",
    "### Análise da implementação com *pthreads*\n",
    "\n",
    "Aparentemente o tempo de execução aumenta ainda que aumentamos o numero de threads, com exceção de quando rodamos\n",
    "imagens com 8 threads provavelmente pois , assim como ocorreu no miniep anterior, a quantidade de threads acaba \n",
    "ficando muito maior que a quantidade de núcleos de processamento da máquina, assim, não temos um ganho real \n",
    "dividindo o trabalho, pois ele terá que ser executado nos mesmos núcleos. Todavia ainda vemos que ainda ganhamos tempo se comparado com a execução sequencial e que assim como na execução sequencial a geração da imagem completa(full) é mais rapida de ser calculada.\n",
    "\n",
    "### Análise da implementação com OpenMP\n",
    "\n",
    "Como ja foi dito, a implementação por OpenMP apresentam um tempo de execução e taxa de crescimento similar para n threads para as regiões pedidas, todavia apresentam um tempo consideravelmente mais rapido para determinadas imagens com relação a outras, em especial a imagem denominada \" full \".\n",
    "\n",
    "• 2) Qual o impacto das operações de I/O e alocação de memória no tempo de execução?\n",
    "\n",
    "#### Especificações do ambiente utilizado para geração das imagens \n",
    "\n",
    " - Host bridge: Intel Corporation Xeon E3-1200 v6/7th Gen Core Processor Host Bridge/DRAM Registers \n",
    " \n",
    " - PCI bridge: Intel Corporation Xeon E3-1200 v5/E3-1500 v5/6th Gen Core Processor PCIe Controller (x16) (rev 05)\n",
    " \n",
    " - VGA compatible controller: Intel Corporation Device 591b (rev 04)\n",
    " \n",
    " - USB controller: Intel Corporation 100 Series/C230 Series Chipset Family USB 3.0 xHCI Controller (rev 31)\n",
    "  \n",
    " - Signal processing controller: Intel Corporation 100 Series/C230 Series Chipset Family Thermal Subsystem (rev 31)\n",
    " \n",
    " - Communication controller: Intel Corporation 100 Series/C230 Series Chipset Family MEI Controller #1 (rev 31)\n",
    " \n",
    " - SATA controller: Intel Corporation HM170/QM170 Chipset SATA Controller [AHCI Mode] (rev 31)\n",
    " \n",
    " - PCI bridge: Intel Corporation 100 Series/C230 Series Chipset Family PCI Express Root Port #3 (rev f1)\n",
    " \n",
    " - PCI bridge: Intel Corporation 100 Series/C230 Series Chipset Family PCI Express Root Port #4 (rev f1)\n",
    " \n",
    " - PCI bridge: Intel Corporation 100 Series/C230 Series Chipset Family PCI Express Root Port #9 (rev f1)\n",
    " \n",
    " - ISA bridge: Intel Corporation HM175 Chipset LPC/eSPI Controller (rev 31)\n",
    " \n",
    " - Memory controller: Intel Corporation 100 Series/C230 Series Chipset Family Power Management Controller (rev 31)\n",
    " \n",
    " - SMBus: Intel Corporation 100 Series/C230 Series Chipset Family SMBus (rev 31)\n",
    " \n",
    " - VGA compatible controller: NVIDIA Corporation GP106M [GeForce GTX 1060 Mobile] (rev a1)\n",
    " \n",
    " - Network controller: Intel Corporation Wireless 8265 / 8275 (rev 78)\n",
    " \n",
    " - Ethernet controller: Realtek Semiconductor Co., Ltd. RTL8111/8168/8411 PCI Express Gigabit Ethernet Controller\n"
   ]
  },
  {
   "cell_type": "code",
   "execution_count": null,
   "metadata": {},
   "outputs": [],
   "source": [
    "using DataFrames\n",
    "\n",
    "function get_df_time(path) \n",
    "    overhead = []\n",
    "    system = []\n",
    "    open(path) do f\n",
    "        for i in eachline(f)\n",
    "            if occursin(r\".+[0-9]+.[0-9]+%\", i)\n",
    "                x = split(i)\n",
    "                tmp = split(x[1], \"%\")\n",
    "                push!(overhead, parse(Float64, tmp[1]))\n",
    "                push!(system, x[5])\n",
    "            end\n",
    "        end\n",
    "    end\n",
    "    return df = DataFrame(A = overhead, B = system)\n",
    "end\n",
    "\n",
    "\n",
    "df = (get_df_time(\"results_inter/mandelbrot_seq/full.log\"))\n",
    "\n",
    "\n",
    "function get_time(df)\n",
    "    time = [0.0, 0.0, 0.0]\n",
    "\n",
    "    for i in eachrow(df)\n",
    "        if occursin(r\".*mandelbrot.*\", i[2,])\n",
    "            time[1] += i[1, ]\n",
    "        elseif occursin(r\".*malloc.*\", i[2,]) || occursin(r\".*IO.*\", i[2,]) \n",
    "            time[2] += i[1, ]\n",
    "        else \n",
    "            time[3] += i[1, ]\n",
    "        end\n",
    "    end\n",
    "    return time\n",
    "end\n",
    "\n",
    "println(typeof(get_time(df)))\n",
    "\n",
    "\n",
    "function get_all()\n",
    "    mandel = [\"omp\", \"pth\"]\n",
    "    logs = [\"elephant8\", \"full8\", \"seahorse8\", \"triple_spiral8\"]\n",
    "    \n",
    "    #mandelbrot\n",
    "    timeM = []\n",
    "    \n",
    "    #IO and malloc\n",
    "    timeIO = []\n",
    "    \n",
    "    #Remain\n",
    "    timeR = []\n",
    "    \n",
    "    files = []\n",
    "    \n",
    "    for i in mandel\n",
    "        for j in logs\n",
    "            tmp_df = (get_df_time(\"results_inter/mandelbrot_$i/$j.log\"))\n",
    "            time = get_time(tmp_df)\n",
    "            push!(timeM, time[1])\n",
    "            push!(timeIO, time[2])\n",
    "            push!(timeR, time[3])\n",
    "            push!(files, \"$i/$j\")\n",
    "        end\n",
    "    end\n",
    "    \n",
    "    return df = DataFrame(Mandelbrot = timeM, IOandMalloc = timeIO, Remain = timeR, Files = files)\n",
    "end\n",
    "\n",
    "println(get_all())"
   ]
  }
 ],
 "metadata": {
  "kernelspec": {
   "display_name": "Julia 1.3.1",
   "language": "julia",
   "name": "julia-1.3"
  },
  "language_info": {
   "file_extension": ".jl",
   "mimetype": "application/julia",
   "name": "julia",
   "version": "1.4.0"
  }
 },
 "nbformat": 4,
 "nbformat_minor": 2
}
